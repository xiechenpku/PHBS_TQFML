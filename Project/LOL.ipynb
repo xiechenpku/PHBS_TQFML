{
 "cells": [
  {
   "cell_type": "markdown",
   "metadata": {},
   "source": [
    "# Data Information:\n",
    "\n",
    "## Input variables:\n",
    "\n",
    "\n",
    "## Output variable (desired target):\n"
   ]
  },
  {
   "cell_type": "markdown",
   "metadata": {},
   "source": [
    "# Data preprocessing "
   ]
  },
  {
   "cell_type": "markdown",
   "metadata": {},
   "source": [
    "Import libraries and data, select a small sample set for trainning\n"
   ]
  },
  {
   "cell_type": "code",
   "execution_count": 108,
   "metadata": {},
   "outputs": [
    {
     "data": {
      "text/html": [
       "<div>\n",
       "<style>\n",
       "    .dataframe thead tr:only-child th {\n",
       "        text-align: right;\n",
       "    }\n",
       "\n",
       "    .dataframe thead th {\n",
       "        text-align: left;\n",
       "    }\n",
       "\n",
       "    .dataframe tbody tr th {\n",
       "        vertical-align: top;\n",
       "    }\n",
       "</style>\n",
       "<table border=\"1\" class=\"dataframe\">\n",
       "  <thead>\n",
       "    <tr style=\"text-align: right;\">\n",
       "      <th></th>\n",
       "      <th>bu</th>\n",
       "      <th>Year</th>\n",
       "      <th>Season</th>\n",
       "      <th>Type</th>\n",
       "      <th>blueTeamTag</th>\n",
       "      <th>bResult</th>\n",
       "      <th>rResult</th>\n",
       "      <th>redTeamTag</th>\n",
       "      <th>gamelength</th>\n",
       "      <th>golddiff</th>\n",
       "      <th>...</th>\n",
       "      <th>redMiddleChamp</th>\n",
       "      <th>goldredMiddle</th>\n",
       "      <th>redADC</th>\n",
       "      <th>redADCChamp</th>\n",
       "      <th>goldredADC</th>\n",
       "      <th>redSupport</th>\n",
       "      <th>redSupportChamp</th>\n",
       "      <th>goldredSupport</th>\n",
       "      <th>redBans</th>\n",
       "      <th>Address</th>\n",
       "    </tr>\n",
       "  </thead>\n",
       "  <tbody>\n",
       "    <tr>\n",
       "      <th>7615</th>\n",
       "      <td>TCL</td>\n",
       "      <td>2018</td>\n",
       "      <td>Spring</td>\n",
       "      <td>Season</td>\n",
       "      <td>YC</td>\n",
       "      <td>0</td>\n",
       "      <td>1</td>\n",
       "      <td>SUP</td>\n",
       "      <td>34</td>\n",
       "      <td>[0, 0, -18, -95, 45, -87, -117, 199, 126, 92, ...</td>\n",
       "      <td>...</td>\n",
       "      <td>Veigar</td>\n",
       "      <td>[500, 500, 632, 982, 1258, 1667, 2060, 2390, 2...</td>\n",
       "      <td>Zeitnot</td>\n",
       "      <td>Xayah</td>\n",
       "      <td>[500, 500, 564, 1027, 1320, 1727, 1963, 2276, ...</td>\n",
       "      <td>SnowFlower</td>\n",
       "      <td>Rakan</td>\n",
       "      <td>[500, 500, 566, 801, 1004, 1234, 1463, 1674, 1...</td>\n",
       "      <td>['Ornn', 'Kalista', 'Ryze', 'Alistar', 'Shen']</td>\n",
       "      <td>https://matchhistory.euw.leagueoflegends.com/e...</td>\n",
       "    </tr>\n",
       "    <tr>\n",
       "      <th>7616</th>\n",
       "      <td>TCL</td>\n",
       "      <td>2018</td>\n",
       "      <td>Spring</td>\n",
       "      <td>Season</td>\n",
       "      <td>GAL</td>\n",
       "      <td>0</td>\n",
       "      <td>1</td>\n",
       "      <td>DP</td>\n",
       "      <td>39</td>\n",
       "      <td>[0, 0, -86, -39, -207, -349, -60, -140, 187, -...</td>\n",
       "      <td>...</td>\n",
       "      <td>Ryze</td>\n",
       "      <td>[500, 500, 612, 1000, 1193, 1626, 1979, 2318, ...</td>\n",
       "      <td>Ruvelius</td>\n",
       "      <td>Caitlyn</td>\n",
       "      <td>[500, 500, 621, 977, 1420, 1809, 2047, 2413, 2...</td>\n",
       "      <td>Japone</td>\n",
       "      <td>Braum</td>\n",
       "      <td>[500, 500, 587, 790, 1107, 1335, 1472, 1616, 1...</td>\n",
       "      <td>['Zoe', 'KogMaw', 'JarvanIV', 'Ornn', 'Rengar']</td>\n",
       "      <td>https://matchhistory.euw.leagueoflegends.com/e...</td>\n",
       "    </tr>\n",
       "    <tr>\n",
       "      <th>7617</th>\n",
       "      <td>OPL</td>\n",
       "      <td>2018</td>\n",
       "      <td>Spring</td>\n",
       "      <td>Season</td>\n",
       "      <td>SIN</td>\n",
       "      <td>0</td>\n",
       "      <td>1</td>\n",
       "      <td>DW</td>\n",
       "      <td>24</td>\n",
       "      <td>[0, -8, -6, 116, 103, -92, -470, -958, -1998, ...</td>\n",
       "      <td>...</td>\n",
       "      <td>Malzahar</td>\n",
       "      <td>[500, 500, 615, 903, 1225, 1617, 1976, 2304, 2...</td>\n",
       "      <td>k1ng</td>\n",
       "      <td>Ezreal</td>\n",
       "      <td>[500, 508, 592, 986, 1400, 1753, 2196, 2538, 3...</td>\n",
       "      <td>Cupcake</td>\n",
       "      <td>Taric</td>\n",
       "      <td>[500, 500, 585, 770, 976, 1222, 1446, 1627, 19...</td>\n",
       "      <td>['Azir', 'Kalista', 'Braum', 'Maokai', 'Alistar']</td>\n",
       "      <td>https://matchhistory.na.leagueoflegends.com/en...</td>\n",
       "    </tr>\n",
       "    <tr>\n",
       "      <th>7618</th>\n",
       "      <td>OPL</td>\n",
       "      <td>2018</td>\n",
       "      <td>Spring</td>\n",
       "      <td>Season</td>\n",
       "      <td>LGC</td>\n",
       "      <td>1</td>\n",
       "      <td>0</td>\n",
       "      <td>TTC</td>\n",
       "      <td>35</td>\n",
       "      <td>[0, 0, -97, 33, 351, 284, 299, 263, 403, 623, ...</td>\n",
       "      <td>...</td>\n",
       "      <td>Veigar</td>\n",
       "      <td>[500, 500, 561, 931, 1223, 1631, 1987, 2315, 2...</td>\n",
       "      <td>Low</td>\n",
       "      <td>Sivir</td>\n",
       "      <td>[500, 500, 634, 930, 1304, 1691, 2042, 2384, 2...</td>\n",
       "      <td>Tilting</td>\n",
       "      <td>Janna</td>\n",
       "      <td>[500, 500, 592, 788, 1006, 1251, 1490, 1704, 1...</td>\n",
       "      <td>['Kalista', 'Galio', 'Gnar', 'Jayce', 'Sejuani']</td>\n",
       "      <td>https://matchhistory.na.leagueoflegends.com/en...</td>\n",
       "    </tr>\n",
       "    <tr>\n",
       "      <th>7619</th>\n",
       "      <td>OPL</td>\n",
       "      <td>2018</td>\n",
       "      <td>Spring</td>\n",
       "      <td>Season</td>\n",
       "      <td>TTC</td>\n",
       "      <td>0</td>\n",
       "      <td>1</td>\n",
       "      <td>LGC</td>\n",
       "      <td>42</td>\n",
       "      <td>[0, 0, -8, -225, -36, 73, 464, 184, 1171, 1409...</td>\n",
       "      <td>...</td>\n",
       "      <td>Malzahar</td>\n",
       "      <td>[500, 500, 598, 968, 1165, 1477, 1801, 2016, 2...</td>\n",
       "      <td>Raid</td>\n",
       "      <td>Vayne</td>\n",
       "      <td>[500, 500, 587, 954, 1327, 1749, 2007, 2471, 2...</td>\n",
       "      <td>Decoy</td>\n",
       "      <td>Braum</td>\n",
       "      <td>[500, 500, 585, 793, 998, 1201, 1373, 1619, 18...</td>\n",
       "      <td>['KogMaw', 'Illaoi', 'Azir', 'Karma', 'Sejuani']</td>\n",
       "      <td>https://matchhistory.na.leagueoflegends.com/en...</td>\n",
       "    </tr>\n",
       "  </tbody>\n",
       "</table>\n",
       "<p>5 rows × 57 columns</p>\n",
       "</div>"
      ],
      "text/plain": [
       "       bu  Year  Season    Type blueTeamTag  bResult  rResult redTeamTag  \\\n",
       "7615  TCL  2018  Spring  Season          YC        0        1        SUP   \n",
       "7616  TCL  2018  Spring  Season         GAL        0        1         DP   \n",
       "7617  OPL  2018  Spring  Season         SIN        0        1         DW   \n",
       "7618  OPL  2018  Spring  Season         LGC        1        0        TTC   \n",
       "7619  OPL  2018  Spring  Season         TTC        0        1        LGC   \n",
       "\n",
       "      gamelength                                           golddiff  \\\n",
       "7615          34  [0, 0, -18, -95, 45, -87, -117, 199, 126, 92, ...   \n",
       "7616          39  [0, 0, -86, -39, -207, -349, -60, -140, 187, -...   \n",
       "7617          24  [0, -8, -6, 116, 103, -92, -470, -958, -1998, ...   \n",
       "7618          35  [0, 0, -97, 33, 351, 284, 299, 263, 403, 623, ...   \n",
       "7619          42  [0, 0, -8, -225, -36, 73, 464, 184, 1171, 1409...   \n",
       "\n",
       "                            ...                         redMiddleChamp  \\\n",
       "7615                        ...                                 Veigar   \n",
       "7616                        ...                                   Ryze   \n",
       "7617                        ...                               Malzahar   \n",
       "7618                        ...                                 Veigar   \n",
       "7619                        ...                               Malzahar   \n",
       "\n",
       "                                          goldredMiddle    redADC redADCChamp  \\\n",
       "7615  [500, 500, 632, 982, 1258, 1667, 2060, 2390, 2...   Zeitnot       Xayah   \n",
       "7616  [500, 500, 612, 1000, 1193, 1626, 1979, 2318, ...  Ruvelius     Caitlyn   \n",
       "7617  [500, 500, 615, 903, 1225, 1617, 1976, 2304, 2...      k1ng      Ezreal   \n",
       "7618  [500, 500, 561, 931, 1223, 1631, 1987, 2315, 2...       Low       Sivir   \n",
       "7619  [500, 500, 598, 968, 1165, 1477, 1801, 2016, 2...      Raid       Vayne   \n",
       "\n",
       "                                             goldredADC  redSupport  \\\n",
       "7615  [500, 500, 564, 1027, 1320, 1727, 1963, 2276, ...  SnowFlower   \n",
       "7616  [500, 500, 621, 977, 1420, 1809, 2047, 2413, 2...      Japone   \n",
       "7617  [500, 508, 592, 986, 1400, 1753, 2196, 2538, 3...     Cupcake   \n",
       "7618  [500, 500, 634, 930, 1304, 1691, 2042, 2384, 2...     Tilting   \n",
       "7619  [500, 500, 587, 954, 1327, 1749, 2007, 2471, 2...       Decoy   \n",
       "\n",
       "     redSupportChamp                                     goldredSupport  \\\n",
       "7615           Rakan  [500, 500, 566, 801, 1004, 1234, 1463, 1674, 1...   \n",
       "7616           Braum  [500, 500, 587, 790, 1107, 1335, 1472, 1616, 1...   \n",
       "7617           Taric  [500, 500, 585, 770, 976, 1222, 1446, 1627, 19...   \n",
       "7618           Janna  [500, 500, 592, 788, 1006, 1251, 1490, 1704, 1...   \n",
       "7619           Braum  [500, 500, 585, 793, 998, 1201, 1373, 1619, 18...   \n",
       "\n",
       "                                                redBans  \\\n",
       "7615     ['Ornn', 'Kalista', 'Ryze', 'Alistar', 'Shen']   \n",
       "7616    ['Zoe', 'KogMaw', 'JarvanIV', 'Ornn', 'Rengar']   \n",
       "7617  ['Azir', 'Kalista', 'Braum', 'Maokai', 'Alistar']   \n",
       "7618   ['Kalista', 'Galio', 'Gnar', 'Jayce', 'Sejuani']   \n",
       "7619   ['KogMaw', 'Illaoi', 'Azir', 'Karma', 'Sejuani']   \n",
       "\n",
       "                                                Address  \n",
       "7615  https://matchhistory.euw.leagueoflegends.com/e...  \n",
       "7616  https://matchhistory.euw.leagueoflegends.com/e...  \n",
       "7617  https://matchhistory.na.leagueoflegends.com/en...  \n",
       "7618  https://matchhistory.na.leagueoflegends.com/en...  \n",
       "7619  https://matchhistory.na.leagueoflegends.com/en...  \n",
       "\n",
       "[5 rows x 57 columns]"
      ]
     },
     "execution_count": 108,
     "metadata": {},
     "output_type": "execute_result"
    }
   ],
   "source": [
    "from sklearn import datasets\n",
    "import numpy as np\n",
    "import pandas as pd\n",
    "import copy\n",
    "import matplotlib.pyplot as plt\n",
    "\n",
    "lol_origin = pd.read_csv('./leagueoflegends/leagueoflegends.csv')\n",
    "lol = lol_origin.copy()\n",
    "lol.tail()"
   ]
  },
  {
   "cell_type": "code",
   "execution_count": 109,
   "metadata": {
    "collapsed": true
   },
   "outputs": [],
   "source": [
    "#lol = lol_origin.drop(['goldblue','goldred','Address','bBarons','rBarons','redBans','blueBans',],1) \n",
    "#this is the way we treat 'player' as nominal variables\n",
    "\n",
    "lol = lol_origin.drop(['goldblue','goldred','Address','bBarons','rBarons','redBans','blueBans','blueTop','blueMiddle','blueJungle','blueADC','blueSupport',\n",
    "          'redTop','redMiddle','redJungle','redADC','redSupport'],1) \n",
    "# this is the way we treat 'player' as ordinal variables, therefore, we set them as dummies later\n",
    "\n",
    "for x in ['golddiff','goldblueTop','goldblueJungle','goldblueMiddle','goldblueADC','goldblueSupport',\n",
    "          'goldredTop','goldredJungle','goldredMiddle','goldredADC','goldredSupport']:\n",
    "    lol[x] = [int(y.split(',')[14]) for y in lol_origin[x]]\n",
    "\n",
    "for x in ['Top','Jungle','Middle','ADC','Support']:\n",
    "    lol['golddiff' + x ] = lol['goldblue' + x ] - lol['goldred' + x ]\n",
    "    del lol['goldblue' + x ]\n",
    "    del lol['goldred' + x ]"
   ]
  },
  {
   "cell_type": "code",
   "execution_count": 110,
   "metadata": {
    "collapsed": true
   },
   "outputs": [],
   "source": [
    "def get_data15(feature):\n",
    "    info = [x[2:-2] for x in feature]\n",
    "    data15 = []\n",
    "    for y in info:\n",
    "        y = y.split('], [')\n",
    "        j = 0\n",
    "        for z in y:\n",
    "            if z.strip() =='':\n",
    "                break\n",
    "            else:\n",
    "                z=z.split(',')\n",
    "                n =float(z[0])\n",
    "                if n < 15.0 :\n",
    "                    j = j + 1\n",
    "        data15.append(j)\n",
    "    return data15"
   ]
  },
  {
   "cell_type": "code",
   "execution_count": 111,
   "metadata": {
    "collapsed": true
   },
   "outputs": [],
   "source": [
    "for x in ['bKills','bTowers','bInhibs','bDragons','bHeralds',\n",
    "          'rKills','rTowers','rInhibs','rDragons','rHeralds']:\n",
    "    del lol[x]\n",
    "    lol[x] = get_data15(lol_origin[x])"
   ]
  },
  {
   "cell_type": "code",
   "execution_count": 112,
   "metadata": {
    "collapsed": true
   },
   "outputs": [],
   "source": [
    "champ_names = lol_origin['blueTopChamp']\n",
    "player_names = lol_origin['blueTop']\n",
    "team_names = lol_origin['blueTeamTag']\n",
    "for x in ['blueMiddleChamp','blueJungleChamp','blueADCChamp','blueSupportChamp',\n",
    "          'redTopChamp','redMiddleChamp','redJungleChamp','redADCChamp','redSupportChamp']:\n",
    "    champ_names = champ_names.append(lol_origin[x])\n",
    "for x in ['blueMiddle','blueJungle','blueADC','blueSupport',\n",
    "          'redTop','redMiddle','redJungle','redADC','redSupport']:\n",
    "    player_names = player_names.append(lol_origin[x])\n",
    "team_names = team_names.append(lol_origin['redTeamTag'])"
   ]
  },
  {
   "cell_type": "markdown",
   "metadata": {},
   "source": [
    "### Processing the ordinal and nominal data,seperately"
   ]
  },
  {
   "cell_type": "code",
   "execution_count": 113,
   "metadata": {
    "collapsed": true
   },
   "outputs": [],
   "source": [
    "from sklearn.preprocessing import LabelEncoder\n",
    "\n",
    "def nominal_transform(names,sets):\n",
    "    le = LabelEncoder()\n",
    "    le.fit_transform(names.astype(str))\n",
    "    for x in sets:\n",
    "        lol[x] = le.transform(lol_origin[x].astype(str))"
   ]
  },
  {
   "cell_type": "code",
   "execution_count": 114,
   "metadata": {
    "collapsed": true,
    "scrolled": true
   },
   "outputs": [],
   "source": [
    "Position = ['blueTop','blueMiddle','blueJungle','blueADC','blueSupport',\n",
    "          'redTop','redMiddle','redJungle','redADC','redSupport']\n",
    "Champ = [x+'Champ' for x in Position]\n",
    "Team = ['blueTeamTag','redTeamTag']\n",
    "Other = ['bu','Season','Type']\n",
    "\n",
    "nominal_transform(champ_names,Champ)\n",
    "#nominal_transform(player_names,Position)   this is the way we treat 'player' as nominal variables\n",
    "nominal_transform(team_names,Team)\n",
    "\n",
    "'''\n",
    "champ_le = LabelEncoder()\n",
    "champ_le.fit_transform(champ_names.astype(str))\n",
    "for x in Champ:\n",
    "    lol[x] = champ_le.transform(lol_origin[x].astype(str))\n",
    "\n",
    "player_le = LabelEncoder()\n",
    "player_le.fit_transform(player_names.astype(str))\n",
    "for x in position:\n",
    "    lol[x] = player_le.transform(lol_origin[x].astype(str))\n",
    "\n",
    "team_le = LabelEncoder()\n",
    "team_le.fit_transform(team_names.astype(str))\n",
    "for x in ['blueTeamTag','redTeamTag']:\n",
    "    lol[x] = team_le.transform(lol_origin[x].astype(str))\n",
    "'''\n",
    "\n",
    "for x in Other:\n",
    "    le = LabelEncoder()\n",
    "    lol[x] = le.fit_transform(lol_origin[x].astype(str))"
   ]
  },
  {
   "cell_type": "code",
   "execution_count": 115,
   "metadata": {
    "collapsed": true
   },
   "outputs": [],
   "source": [
    "dummies_Player = pd.get_dummies(lol_origin[['blueTop','blueMiddle','blueJungle','blueADC','blueSupport',\n",
    "          'redTop','redMiddle','redJungle','redADC','redSupport']])"
   ]
  },
  {
   "cell_type": "code",
   "execution_count": null,
   "metadata": {},
   "outputs": [
    {
     "name": "stderr",
     "output_type": "stream",
     "text": [
      "D:\\python3\\lib\\site-packages\\ipykernel_launcher.py:8: DeprecationWarning: \n",
      ".ix is deprecated. Please use\n",
      ".loc for label based indexing or\n",
      ".iloc for positional indexing\n",
      "\n",
      "See the documentation here:\n",
      "http://pandas.pydata.org/pandas-docs/stable/indexing.html#deprecate_ix\n",
      "  \n"
     ]
    },
    {
     "name": "stdout",
     "output_type": "stream",
     "text": [
      "3538\n"
     ]
    }
   ],
   "source": [
    "Champ_list = sorted(champ_names.unique())\n",
    "lol_origin.redBans = lol_origin.redBans.str.strip('[]').str.replace(\"'\",'')\n",
    "lol_origin.blueBans = lol_origin.blueBans.str.strip('[]').str.replace(\"'\",'')\n",
    "dummies_Champ_Bans = pd.DataFrame(np.zeros((len(lol_origin),len(Champ_list))),columns=Champ_list)\n",
    "for i, Champ in enumerate(lol_origin.redBans):\n",
    "    Champ = str(Champ)\n",
    "    for ban in Champ.split(', '):\n",
    "        dummies_Champ_Bans.ix[i, ban] = 1\n",
    "for i, Champ in enumerate(lol_origin.blueBans):\n",
    "    Champ = str(Champ)\n",
    "    for ban in Champ.split(', '):\n",
    "        dummies_Champ_Bans.ix[i, ban] = 1\n",
    "del dummies_Champ_Bans['']\n",
    "lol = lol.join(dummies_Champ_Bans)\n",
    "lol = lol.join(dummies_Player)\n",
    "print(len(lol.columns))"
   ]
  },
  {
   "cell_type": "code",
   "execution_count": null,
   "metadata": {
    "collapsed": true
   },
   "outputs": [],
   "source": [
    "y = lol['bResult']\n",
    "X = lol.drop(['bResult','rResult'],1)"
   ]
  },
  {
   "cell_type": "code",
   "execution_count": null,
   "metadata": {
    "collapsed": true
   },
   "outputs": [],
   "source": [
    "labels = 'BlueWin', 'RedWin'\n",
    "sizes = [y.value_counts()[1],y.value_counts()[0]]\n",
    "\n",
    "fig1, ax1 = plt.subplots()\n",
    "ax1.pie(sizes, labels=labels, autopct='%1.1f%%',\n",
    "        shadow=True, startangle=90)\n",
    "ax1.axis('equal')  # Equal aspect ratio ensures that pie is drawn as a circle.\n",
    "\n",
    "plt.show()"
   ]
  },
  {
   "cell_type": "markdown",
   "metadata": {},
   "source": [
    "### Splitting data into 70% training and 30% test data"
   ]
  },
  {
   "cell_type": "code",
   "execution_count": null,
   "metadata": {
    "collapsed": true
   },
   "outputs": [],
   "source": [
    "from sklearn.model_selection import train_test_split\n",
    "\n",
    "X_train, X_test, y_train, y_test = train_test_split(\n",
    "    X, y, test_size=0.3, random_state=1, stratify=y)"
   ]
  },
  {
   "cell_type": "markdown",
   "metadata": {},
   "source": [
    "### Bringing features onto the same scale(Standardization)"
   ]
  },
  {
   "cell_type": "code",
   "execution_count": null,
   "metadata": {
    "collapsed": true
   },
   "outputs": [],
   "source": [
    "from sklearn.preprocessing import StandardScaler\n",
    "stdsc = StandardScaler()\n",
    "X_train = stdsc.fit_transform(X_train)\n",
    "X_test = stdsc.transform(X_test)"
   ]
  },
  {
   "cell_type": "markdown",
   "metadata": {},
   "source": [
    "# Training Data with Different Models"
   ]
  },
  {
   "cell_type": "code",
   "execution_count": null,
   "metadata": {
    "collapsed": true
   },
   "outputs": [],
   "source": [
    "from sklearn.linear_model import Perceptron\n",
    "\n",
    "ppn = Perceptron(penalty='l1',n_iter=1, eta0=1, random_state=1)\n",
    "ppn.fit(X_train, y_train)\n",
    "\n",
    "print('accuracy of trainning = ' ,ppn.score(X_train,y_train))\n",
    "print('accuracy of testing = ' ,ppn.score(X_test,y_test))"
   ]
  },
  {
   "cell_type": "code",
   "execution_count": 58,
   "metadata": {},
   "outputs": [
    {
     "name": "stdout",
     "output_type": "stream",
     "text": [
      "accuracy of trainning =  0.883202099738\n",
      "accuracy of testing =  0.688976377953\n"
     ]
    }
   ],
   "source": [
    "from sklearn.linear_model import LogisticRegression\n",
    "\n",
    "lr = LogisticRegression(penalty='l1',C=1,random_state=1)   \n",
    "lr.fit(X_train, y_train)\n",
    "print('accuracy of trainning = ' ,lr.score(X_train,y_train))\n",
    "print('accuracy of testing = ' ,lr.score(X_test,y_test))"
   ]
  },
  {
   "cell_type": "markdown",
   "metadata": {},
   "source": [
    "<br>\n",
    "<br>"
   ]
  }
 ],
 "metadata": {
  "anaconda-cloud": {},
  "kernelspec": {
   "display_name": "Python 3",
   "language": "python",
   "name": "python3"
  },
  "language_info": {
   "codemirror_mode": {
    "name": "ipython",
    "version": 3
   },
   "file_extension": ".py",
   "mimetype": "text/x-python",
   "name": "python",
   "nbconvert_exporter": "python",
   "pygments_lexer": "ipython3",
   "version": "3.6.1"
  }
 },
 "nbformat": 4,
 "nbformat_minor": 1
}
