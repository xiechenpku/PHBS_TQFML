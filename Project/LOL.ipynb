{
 "cells": [
  {
   "cell_type": "markdown",
   "metadata": {},
   "source": [
    "# Data Information:\n",
    "\n",
    "## Input variables:\n",
    "\n",
    "\n",
    "## Output variable (desired target):\n"
   ]
  },
  {
   "cell_type": "markdown",
   "metadata": {},
   "source": [
    "# Data preprocessing "
   ]
  },
  {
   "cell_type": "markdown",
   "metadata": {},
   "source": [
    "Import libraries and data, select a small sample set for trainning\n"
   ]
  },
  {
   "cell_type": "code",
   "execution_count": 162,
   "metadata": {},
   "outputs": [],
   "source": [
    "from sklearn import datasets\n",
    "import numpy as np\n",
    "import pandas as pd\n",
    "import copy\n",
    "\n",
    "lol_origin = pd.read_csv('./leagueoflegends/leagueoflegends.csv')\n",
    "lol = lol_origin.copy()"
   ]
  },
  {
   "cell_type": "code",
   "execution_count": 163,
   "metadata": {},
   "outputs": [],
   "source": [
    "for x in ['golddiff','goldblueTop','goldblueJungle','goldblueMiddle','goldblueADC','goldblueSupport',\n",
    "          'goldredTop','goldredJungle','goldredMiddle','goldredADC','goldredSupport']:\n",
    "    lol[x] = [int(y.split(',')[14]) for y in lol_origin[x]]\n",
    "\n",
    "for x in ['Top','Middle','ADC','Support']:\n",
    "    lol['golddiff' + x ] = lol['goldblue' + x ] - lol['goldred' + x ]\n",
    "    del lol['goldblue' + x ]\n",
    "    del lol['goldred' + x ]\n"
   ]
  },
  {
   "cell_type": "code",
   "execution_count": 169,
   "metadata": {},
   "outputs": [],
   "source": [
    "def get_data15(feature):\n",
    "    info = [x[2:-2] for x in feature]\n",
    "    data15 = []\n",
    "    for y in info:\n",
    "        y = y.split('], [')\n",
    "        j = 0\n",
    "        for z in y:\n",
    "            if z.strip() =='':\n",
    "                break\n",
    "            else:\n",
    "                z=z.split(',')\n",
    "                n =float(z[0])\n",
    "                if n < 15.0 :\n",
    "                    j = j + 1\n",
    "                else:\n",
    "                    break\n",
    "        data15.append(j)\n",
    "    return data15"
   ]
  },
  {
   "cell_type": "code",
   "execution_count": 170,
   "metadata": {},
   "outputs": [
    {
     "data": {
      "text/plain": [
       "0       [[27.542, 'MID_LANE', 'BASE_TURRET'], [39.269,...\n",
       "1       [[23.239, 'BOT_LANE', 'OUTER_TURRET'], [33.018...\n",
       "2       [[15.045, 'BOT_LANE', 'OUTER_TURRET'], [39.566...\n",
       "3       [[19.941, 'BOT_LANE', 'OUTER_TURRET'], [38.77,...\n",
       "4       [[22.594, 'MID_LANE', 'OUTER_TURRET'], [34.213...\n",
       "5                                                      []\n",
       "6       [[24.494, 'TOP_LANE', 'INNER_TURRET'], [19.684...\n",
       "7       [[14.046, 'MID_LANE', 'OUTER_TURRET'], [35.704...\n",
       "8       [[24.108, 'TOP_LANE', 'INNER_TURRET'], [19.079...\n",
       "9       [[19.95, 'BOT_LANE', 'OUTER_TURRET'], [22.194,...\n",
       "10      [[15.531, 'TOP_LANE', 'OUTER_TURRET'], [50.663...\n",
       "11      [[37.651, 'MID_LANE', 'BASE_TURRET'], [27.688,...\n",
       "12      [[14.38, 'BOT_LANE', 'OUTER_TURRET'], [36.214,...\n",
       "13      [[21.955, 'BOT_LANE', 'OUTER_TURRET'], [20.603...\n",
       "14      [[13.042, 'BOT_LANE', 'OUTER_TURRET'], [15.573...\n",
       "15      [[22.656, 'TOP_LANE', 'INNER_TURRET'], [37.455...\n",
       "16      [[12.985, 'BOT_LANE', 'OUTER_TURRET'], [17.619...\n",
       "17      [[11.018, 'BOT_LANE', 'OUTER_TURRET'], [12.769...\n",
       "18      [[13.393, 'TOP_LANE', 'OUTER_TURRET'], [39.288...\n",
       "19      [[24.471, 'TOP_LANE', 'INNER_TURRET'], [18.215...\n",
       "20      [[17.949, 'BOT_LANE', 'OUTER_TURRET'], [23.597...\n",
       "21      [[34.219, 'MID_LANE', 'NEXUS_TURRET'], [34.312...\n",
       "22      [[19.066, 'MID_LANE', 'OUTER_TURRET'], [27.818...\n",
       "23      [[32.7, 'MID_LANE', 'BASE_TURRET'], [32.516, '...\n",
       "24      [[17.222, 'TOP_LANE', 'OUTER_TURRET'], [12.444...\n",
       "25      [[29.626, 'TOP_LANE', 'BASE_TURRET'], [13.68, ...\n",
       "26      [[29.479, 'BOT_LANE', 'BASE_TURRET'], [11.91, ...\n",
       "27      [[28.342, 'MID_LANE', 'INNER_TURRET'], [32.052...\n",
       "28      [[30.083, 'MID_LANE', 'NEXUS_TURRET'], [9.385,...\n",
       "29      [[29.037, 'MID_LANE', 'NEXUS_TURRET'], [28.912...\n",
       "                              ...                        \n",
       "7590                                                   []\n",
       "7591    [[15.56, 'TOP_LANE', 'INNER_TURRET'], [28.072,...\n",
       "7592    [[25.888, 'TOP_LANE', 'OUTER_TURRET'], [31.447...\n",
       "7593    [[13.377, 'TOP_LANE', 'OUTER_TURRET'], [14.294...\n",
       "7594    [[18.913, 'BOT_LANE', 'OUTER_TURRET'], [22.981...\n",
       "7595    [[30.178, 'MID_LANE', 'INNER_TURRET'], [31.298...\n",
       "7596    [[22.072, 'BOT_LANE', 'INNER_TURRET'], [12.661...\n",
       "7597    [[26.226, 'MID_LANE', 'INNER_TURRET'], [36.262...\n",
       "7598    [[24.647, 'MID_LANE', 'OUTER_TURRET'], [55.512...\n",
       "7599    [[27.249, 'MID_LANE', 'INNER_TURRET'], [12.004...\n",
       "7600    [[19.333, 'MID_LANE', 'OUTER_TURRET'], [15.043...\n",
       "7601    [[35.197, 'MID_LANE', 'INNER_TURRET'], [19.322...\n",
       "7602    [[26.902, 'TOP_LANE', 'INNER_TURRET'], [27.312...\n",
       "7603    [[17.925, 'BOT_LANE', 'OUTER_TURRET'], [39.211...\n",
       "7604    [[26.061, 'BOT_LANE', 'INNER_TURRET'], [18.235...\n",
       "7605                                                   []\n",
       "7606    [[23.419, 'MID_LANE', 'NEXUS_TURRET'], [23.201...\n",
       "7607    [[11.967, 'TOP_LANE', 'OUTER_TURRET'], [35.198...\n",
       "7608    [[21.91, 'TOP_LANE', 'OUTER_TURRET'], [22.157,...\n",
       "7609               [[16.612, 'TOP_LANE', 'OUTER_TURRET']]\n",
       "7610    [[24.2, 'TOP_LANE', 'INNER_TURRET'], [28.004, ...\n",
       "7611    [[20.965, 'MID_LANE', 'INNER_TURRET'], [32.622...\n",
       "7612    [[17.508, 'TOP_LANE', 'OUTER_TURRET'], [24.416...\n",
       "7613    [[29.79, 'MID_LANE', 'NEXUS_TURRET'], [23.977,...\n",
       "7614                                                   []\n",
       "7615    [[12.448, 'BOT_LANE', 'OUTER_TURRET'], [27.646...\n",
       "7616    [[23.085, 'BOT_LANE', 'INNER_TURRET'], [17.368...\n",
       "7617                                                   []\n",
       "7618    [[22.043, 'TOP_LANE', 'OUTER_TURRET'], [24.727...\n",
       "7619    [[18.042, 'BOT_LANE', 'OUTER_TURRET'], [13.644...\n",
       "Name: bTowers, Length: 7620, dtype: object"
      ]
     },
     "execution_count": 170,
     "metadata": {},
     "output_type": "execute_result"
    }
   ],
   "source": [
    "lol['bKills'] = get_data15(lol_origin['bKills'])\n",
    "lol['rKills'] = get_data15(lol_origin['rKills'])\n",
    "lol['bTowers'] = get_data15(lol_origin['bTowers'])\n",
    "lol_origin['bTowers']"
   ]
  },
  {
   "cell_type": "code",
   "execution_count": 171,
   "metadata": {},
   "outputs": [
    {
     "data": {
      "text/plain": [
       "0       0\n",
       "1       0\n",
       "2       0\n",
       "3       0\n",
       "4       1\n",
       "5       0\n",
       "6       1\n",
       "7       1\n",
       "8       1\n",
       "9       0\n",
       "10      0\n",
       "11      1\n",
       "12      1\n",
       "13      0\n",
       "14      1\n",
       "15      4\n",
       "16      1\n",
       "17      3\n",
       "18      1\n",
       "19      1\n",
       "20      0\n",
       "21      2\n",
       "22      0\n",
       "23      0\n",
       "24      1\n",
       "25      2\n",
       "26      2\n",
       "27      0\n",
       "28      3\n",
       "29      4\n",
       "       ..\n",
       "7590    0\n",
       "7591    3\n",
       "7592    0\n",
       "7593    3\n",
       "7594    1\n",
       "7595    1\n",
       "7596    1\n",
       "7597    2\n",
       "7598    0\n",
       "7599    1\n",
       "7600    0\n",
       "7601    1\n",
       "7602    1\n",
       "7603    0\n",
       "7604    0\n",
       "7605    0\n",
       "7606    1\n",
       "7607    1\n",
       "7608    0\n",
       "7609    0\n",
       "7610    1\n",
       "7611    1\n",
       "7612    0\n",
       "7613    1\n",
       "7614    0\n",
       "7615    1\n",
       "7616    0\n",
       "7617    0\n",
       "7618    0\n",
       "7619    2\n",
       "Name: bTowers, Length: 7620, dtype: int64"
      ]
     },
     "execution_count": 171,
     "metadata": {},
     "output_type": "execute_result"
    }
   ],
   "source": [
    "lol['bTowers']"
   ]
  },
  {
   "cell_type": "markdown",
   "metadata": {},
   "source": [
    "### Processing the ordinal and nominal data,seperately\n",
    "\n",
    "In my opinion, only 'player' variable is ordinal\n"
   ]
  },
  {
   "cell_type": "markdown",
   "metadata": {},
   "source": [
    "### Splitting data into 70% training and 30% test data \n",
    "### Bringing features onto the same scale\n",
    "\n",
    "Here we choose standardization instead of normalization\n",
    "\n",
    "Standardizing both the numeric and the Categorical features"
   ]
  },
  {
   "cell_type": "markdown",
   "metadata": {},
   "source": []
  },
  {
   "cell_type": "markdown",
   "metadata": {},
   "source": [
    "<br>\n",
    "<br>"
   ]
  }
 ],
 "metadata": {
  "anaconda-cloud": {},
  "kernelspec": {
   "display_name": "Python 3",
   "language": "python",
   "name": "python3"
  },
  "language_info": {
   "codemirror_mode": {
    "name": "ipython",
    "version": 3
   },
   "file_extension": ".py",
   "mimetype": "text/x-python",
   "name": "python",
   "nbconvert_exporter": "python",
   "pygments_lexer": "ipython3",
   "version": "3.6.1"
  }
 },
 "nbformat": 4,
 "nbformat_minor": 1
}
